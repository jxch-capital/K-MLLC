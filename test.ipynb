{
 "cells": [
  {
   "cell_type": "code",
   "execution_count": 1,
   "id": "initial_id",
   "metadata": {
    "collapsed": true,
    "ExecuteTime": {
     "end_time": "2023-12-21T22:01:37.943182700Z",
     "start_time": "2023-12-21T22:01:37.071523400Z"
    }
   },
   "outputs": [],
   "source": [
    "import yfinance as yf\n",
    "from proxy import enable\n",
    "from lorentzian import lorentzian_distance, lorentzian_k_nearest_neighbor, Diction, KNode, test_data_by_df, \\\n",
    "    prediction2node\n",
    "from features import n_rsi, n_adx, n_cci, n_wt, HLC3, FeaturesX, FeaturesDefinition\n",
    "import ta.wrapper\n",
    "\n",
    "enable()"
   ]
  },
  {
   "cell_type": "code",
   "execution_count": 2,
   "outputs": [],
   "source": [
    "apple = yf.Ticker(\"AAPL\")"
   ],
   "metadata": {
    "collapsed": false,
    "ExecuteTime": {
     "end_time": "2023-12-21T22:01:39.054646700Z",
     "start_time": "2023-12-21T22:01:39.042604Z"
    }
   },
   "id": "d00e8807b51d0cd4"
  },
  {
   "cell_type": "code",
   "execution_count": 3,
   "outputs": [],
   "source": [
    "his = apple.history(period=\"max\", interval=\"1d\")"
   ],
   "metadata": {
    "collapsed": false,
    "ExecuteTime": {
     "end_time": "2023-12-21T22:01:42.854683900Z",
     "start_time": "2023-12-21T22:01:39.545400500Z"
    }
   },
   "id": "ba7f07499483f4a"
  },
  {
   "cell_type": "code",
   "execution_count": 31,
   "outputs": [],
   "source": [
    "his['SMA20'] = ta.wrapper.SMAIndicator(his['Close'], window=200).sma_indicator()\n",
    "his['EMA20'] = ta.wrapper.EMAIndicator(his['Close'], window=200).ema_indicator()"
   ],
   "metadata": {
    "collapsed": false,
    "ExecuteTime": {
     "end_time": "2023-12-21T22:20:38.105001500Z",
     "start_time": "2023-12-21T22:20:38.085676700Z"
    }
   },
   "id": "fa74b411bb565fca"
  },
  {
   "cell_type": "code",
   "execution_count": 32,
   "outputs": [],
   "source": [
    "his['SMA20_-1d'] = his[\"SMA20\"] - his[\"SMA20\"].shift(1)\n",
    "his['EMA20_-1d'] = his[\"EMA20\"] - his[\"EMA20\"].shift(1)"
   ],
   "metadata": {
    "collapsed": false,
    "ExecuteTime": {
     "end_time": "2023-12-21T22:20:39.134623400Z",
     "start_time": "2023-12-21T22:20:39.119998800Z"
    }
   },
   "id": "b7e4ce9c2d6f29bd"
  },
  {
   "cell_type": "code",
   "execution_count": 33,
   "outputs": [],
   "source": [
    "features_definition = FeaturesDefinition.default(high=his['High'], close=his['Close'], open=his['Open'], low=his['Low'])\n",
    "his = features_definition.calculate(his)"
   ],
   "metadata": {
    "collapsed": false,
    "ExecuteTime": {
     "end_time": "2023-12-21T22:20:43.170452100Z",
     "start_time": "2023-12-21T22:20:42.887798Z"
    }
   },
   "id": "96d7fc838b19ee03"
  },
  {
   "cell_type": "code",
   "execution_count": 39,
   "outputs": [],
   "source": [
    "test_data = test_data_by_df(his, features_definition, future_count=8)"
   ],
   "metadata": {
    "collapsed": false,
    "ExecuteTime": {
     "end_time": "2023-12-21T22:22:45.328466500Z",
     "start_time": "2023-12-21T22:22:43.594744400Z"
    }
   },
   "id": "db405cc5779a77dc"
  },
  {
   "cell_type": "code",
   "execution_count": 40,
   "outputs": [],
   "source": [
    "start_index = int(len(test_data) * 0.8)\n",
    "train = test_data[:start_index]\n",
    "test = test_data[start_index:]"
   ],
   "metadata": {
    "collapsed": false,
    "ExecuteTime": {
     "end_time": "2023-12-21T22:22:45.974405700Z",
     "start_time": "2023-12-21T22:22:45.951412Z"
    }
   },
   "id": "875fc8fa81b969b8"
  },
  {
   "cell_type": "code",
   "execution_count": 41,
   "outputs": [],
   "source": [
    "def buy_signal(the_current, the_test):\n",
    "    return the_test.info['SMA20_-1d'] > 0 and the_test.info[\n",
    "        'EMA20_-1d'] > 0 and the_current.diction == Diction.LONG\n",
    "\n",
    "\n",
    "def sell_signal(the_current, the_test):\n",
    "    return the_test.info['SMA20_-1d'] < 0 and the_test.info[\n",
    "        'EMA20_-1d'] < 0 and the_current.diction == Diction.SHORT"
   ],
   "metadata": {
    "collapsed": false,
    "ExecuteTime": {
     "end_time": "2023-12-21T22:22:46.773690200Z",
     "start_time": "2023-12-21T22:22:46.763375800Z"
    }
   },
   "id": "22c52ef5aacb1299"
  },
  {
   "cell_type": "code",
   "execution_count": 42,
   "outputs": [
    {
     "name": "stdout",
     "output_type": "stream",
     "text": [
      "progress: 2113/2113 | buy: 742 | sell: 129 | Total: 871 | Win: 514 | Win Rate: 59.01%\r\n",
      "\n",
      "test end.\n",
      "\n",
      "Win Rate: 59.01% | Win: 514 | Total: 2113 | buy: 742 | sell: 129\n"
     ]
    }
   ],
   "source": [
    "win_num = 0\n",
    "buy_num = 0\n",
    "sell_num = 0\n",
    "pos_index = 1\n",
    "total = 0\n",
    "for k_node in test:\n",
    "    current_node = prediction2node(k_node.info, train, features_definition,k=8)\n",
    "    if buy_signal(current_node, k_node):\n",
    "        buy_num = buy_num + 1\n",
    "        if current_node.diction == k_node.diction:\n",
    "            win_num = win_num + 1\n",
    "    elif sell_signal(current_node, k_node):\n",
    "        sell_num = sell_num + 1\n",
    "        if current_node.diction == k_node.diction:\n",
    "            win_num = win_num + 1        \n",
    "\n",
    "    total = buy_num + sell_num\n",
    "    if total > 0:\n",
    "        print(\n",
    "            f'progress: {pos_index}/{len(test)} | buy: {buy_num} | sell: {sell_num} | Total: {total} | Win: {win_num} | Win Rate: {win_num / total * 100:.2f}%',\n",
    "            end='\\r', flush=True)\n",
    "    pos_index = pos_index + 1\n",
    "\n",
    "print('\\n\\ntest end.\\n')\n",
    "print(\n",
    "    f'Win Rate: {win_num / total * 100:.2f}% | Win: {win_num} | Total: {total} | buy: {buy_num} | sell: {sell_num}')"
   ],
   "metadata": {
    "collapsed": false,
    "ExecuteTime": {
     "end_time": "2023-12-21T22:23:37.860599400Z",
     "start_time": "2023-12-21T22:22:47.230491100Z"
    }
   },
   "id": "a8c62e004ba7da90"
  },
  {
   "cell_type": "code",
   "execution_count": null,
   "outputs": [],
   "source": [
    "his['SMA20_-1d']"
   ],
   "metadata": {
    "collapsed": false
   },
   "id": "c43e72b864911b9f"
  },
  {
   "cell_type": "code",
   "execution_count": null,
   "outputs": [],
   "source": [
    "node = prediction2node(his.iloc[-1], test_data, features_definition)"
   ],
   "metadata": {
    "collapsed": false
   },
   "id": "cc053d516fe8e37d"
  },
  {
   "cell_type": "code",
   "execution_count": null,
   "outputs": [],
   "source": [],
   "metadata": {
    "collapsed": false
   },
   "id": "1090eedde270073c"
  }
 ],
 "metadata": {
  "kernelspec": {
   "display_name": "Python 3",
   "language": "python",
   "name": "python3"
  },
  "language_info": {
   "codemirror_mode": {
    "name": "ipython",
    "version": 2
   },
   "file_extension": ".py",
   "mimetype": "text/x-python",
   "name": "python",
   "nbconvert_exporter": "python",
   "pygments_lexer": "ipython2",
   "version": "2.7.6"
  }
 },
 "nbformat": 4,
 "nbformat_minor": 5
}
