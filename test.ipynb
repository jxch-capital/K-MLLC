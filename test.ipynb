{
 "cells": [
  {
   "cell_type": "code",
   "execution_count": 1,
   "id": "initial_id",
   "metadata": {
    "collapsed": true,
    "ExecuteTime": {
     "end_time": "2023-12-21T17:26:45.548443600Z",
     "start_time": "2023-12-21T17:26:20.465934800Z"
    }
   },
   "outputs": [],
   "source": [
    "import yfinance as yf\n",
    "from proxy import enable\n",
    "from lorentzian import lorentzian_distance, lorentzian_k_nearest_neighbor, Diction, KNode\n",
    "\n",
    "enable()"
   ]
  },
  {
   "cell_type": "code",
   "execution_count": 2,
   "outputs": [],
   "source": [
    "apple = yf.Ticker(\"AAPL\")"
   ],
   "metadata": {
    "collapsed": false,
    "ExecuteTime": {
     "end_time": "2023-12-21T17:27:20.224426200Z",
     "start_time": "2023-12-21T17:27:20.217857200Z"
    }
   },
   "id": "d00e8807b51d0cd4"
  },
  {
   "cell_type": "code",
   "execution_count": 3,
   "outputs": [
    {
     "data": {
      "text/plain": "                                 Open        High         Low       Close  \\\nDate                                                                        \n1980-12-12 00:00:00-05:00    0.099319    0.099750    0.099319    0.099319   \n1980-12-15 00:00:00-05:00    0.094569    0.094569    0.094137    0.094137   \n1980-12-16 00:00:00-05:00    0.087659    0.087659    0.087228    0.087228   \n1980-12-17 00:00:00-05:00    0.089387    0.089818    0.089387    0.089387   \n1980-12-18 00:00:00-05:00    0.091978    0.092410    0.091978    0.091978   \n...                               ...         ...         ...         ...   \n2023-12-14 00:00:00-05:00  198.020004  199.619995  196.160004  198.110001   \n2023-12-15 00:00:00-05:00  197.529999  198.399994  197.000000  197.570007   \n2023-12-18 00:00:00-05:00  196.089996  196.630005  194.389999  195.889999   \n2023-12-19 00:00:00-05:00  196.160004  196.949997  195.889999  196.940002   \n2023-12-20 00:00:00-05:00  196.899994  197.679993  194.830002  194.830002   \n\n                              Volume  Dividends  Stock Splits  \nDate                                                           \n1980-12-12 00:00:00-05:00  469033600        0.0           0.0  \n1980-12-15 00:00:00-05:00  175884800        0.0           0.0  \n1980-12-16 00:00:00-05:00  105728000        0.0           0.0  \n1980-12-17 00:00:00-05:00   86441600        0.0           0.0  \n1980-12-18 00:00:00-05:00   73449600        0.0           0.0  \n...                              ...        ...           ...  \n2023-12-14 00:00:00-05:00   66831600        0.0           0.0  \n2023-12-15 00:00:00-05:00  128256700        0.0           0.0  \n2023-12-18 00:00:00-05:00   55751900        0.0           0.0  \n2023-12-19 00:00:00-05:00   40714100        0.0           0.0  \n2023-12-20 00:00:00-05:00   52194800        0.0           0.0  \n\n[10847 rows x 7 columns]",
      "text/html": "<div>\n<style scoped>\n    .dataframe tbody tr th:only-of-type {\n        vertical-align: middle;\n    }\n\n    .dataframe tbody tr th {\n        vertical-align: top;\n    }\n\n    .dataframe thead th {\n        text-align: right;\n    }\n</style>\n<table border=\"1\" class=\"dataframe\">\n  <thead>\n    <tr style=\"text-align: right;\">\n      <th></th>\n      <th>Open</th>\n      <th>High</th>\n      <th>Low</th>\n      <th>Close</th>\n      <th>Volume</th>\n      <th>Dividends</th>\n      <th>Stock Splits</th>\n    </tr>\n    <tr>\n      <th>Date</th>\n      <th></th>\n      <th></th>\n      <th></th>\n      <th></th>\n      <th></th>\n      <th></th>\n      <th></th>\n    </tr>\n  </thead>\n  <tbody>\n    <tr>\n      <th>1980-12-12 00:00:00-05:00</th>\n      <td>0.099319</td>\n      <td>0.099750</td>\n      <td>0.099319</td>\n      <td>0.099319</td>\n      <td>469033600</td>\n      <td>0.0</td>\n      <td>0.0</td>\n    </tr>\n    <tr>\n      <th>1980-12-15 00:00:00-05:00</th>\n      <td>0.094569</td>\n      <td>0.094569</td>\n      <td>0.094137</td>\n      <td>0.094137</td>\n      <td>175884800</td>\n      <td>0.0</td>\n      <td>0.0</td>\n    </tr>\n    <tr>\n      <th>1980-12-16 00:00:00-05:00</th>\n      <td>0.087659</td>\n      <td>0.087659</td>\n      <td>0.087228</td>\n      <td>0.087228</td>\n      <td>105728000</td>\n      <td>0.0</td>\n      <td>0.0</td>\n    </tr>\n    <tr>\n      <th>1980-12-17 00:00:00-05:00</th>\n      <td>0.089387</td>\n      <td>0.089818</td>\n      <td>0.089387</td>\n      <td>0.089387</td>\n      <td>86441600</td>\n      <td>0.0</td>\n      <td>0.0</td>\n    </tr>\n    <tr>\n      <th>1980-12-18 00:00:00-05:00</th>\n      <td>0.091978</td>\n      <td>0.092410</td>\n      <td>0.091978</td>\n      <td>0.091978</td>\n      <td>73449600</td>\n      <td>0.0</td>\n      <td>0.0</td>\n    </tr>\n    <tr>\n      <th>...</th>\n      <td>...</td>\n      <td>...</td>\n      <td>...</td>\n      <td>...</td>\n      <td>...</td>\n      <td>...</td>\n      <td>...</td>\n    </tr>\n    <tr>\n      <th>2023-12-14 00:00:00-05:00</th>\n      <td>198.020004</td>\n      <td>199.619995</td>\n      <td>196.160004</td>\n      <td>198.110001</td>\n      <td>66831600</td>\n      <td>0.0</td>\n      <td>0.0</td>\n    </tr>\n    <tr>\n      <th>2023-12-15 00:00:00-05:00</th>\n      <td>197.529999</td>\n      <td>198.399994</td>\n      <td>197.000000</td>\n      <td>197.570007</td>\n      <td>128256700</td>\n      <td>0.0</td>\n      <td>0.0</td>\n    </tr>\n    <tr>\n      <th>2023-12-18 00:00:00-05:00</th>\n      <td>196.089996</td>\n      <td>196.630005</td>\n      <td>194.389999</td>\n      <td>195.889999</td>\n      <td>55751900</td>\n      <td>0.0</td>\n      <td>0.0</td>\n    </tr>\n    <tr>\n      <th>2023-12-19 00:00:00-05:00</th>\n      <td>196.160004</td>\n      <td>196.949997</td>\n      <td>195.889999</td>\n      <td>196.940002</td>\n      <td>40714100</td>\n      <td>0.0</td>\n      <td>0.0</td>\n    </tr>\n    <tr>\n      <th>2023-12-20 00:00:00-05:00</th>\n      <td>196.899994</td>\n      <td>197.679993</td>\n      <td>194.830002</td>\n      <td>194.830002</td>\n      <td>52194800</td>\n      <td>0.0</td>\n      <td>0.0</td>\n    </tr>\n  </tbody>\n</table>\n<p>10847 rows × 7 columns</p>\n</div>"
     },
     "execution_count": 3,
     "metadata": {},
     "output_type": "execute_result"
    }
   ],
   "source": [
    "apple.history(period=\"max\",interval=\"1d\")"
   ],
   "metadata": {
    "collapsed": false,
    "ExecuteTime": {
     "end_time": "2023-12-21T17:27:49.713365500Z",
     "start_time": "2023-12-21T17:27:27.461506Z"
    }
   },
   "id": "ba7f07499483f4a"
  },
  {
   "cell_type": "code",
   "execution_count": null,
   "outputs": [],
   "source": [],
   "metadata": {
    "collapsed": false
   },
   "id": "a4fbd73a38706fb2"
  }
 ],
 "metadata": {
  "kernelspec": {
   "display_name": "Python 3",
   "language": "python",
   "name": "python3"
  },
  "language_info": {
   "codemirror_mode": {
    "name": "ipython",
    "version": 2
   },
   "file_extension": ".py",
   "mimetype": "text/x-python",
   "name": "python",
   "nbconvert_exporter": "python",
   "pygments_lexer": "ipython2",
   "version": "2.7.6"
  }
 },
 "nbformat": 4,
 "nbformat_minor": 5
}
