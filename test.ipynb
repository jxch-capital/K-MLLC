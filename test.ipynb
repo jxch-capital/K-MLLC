{
 "cells": [
  {
   "cell_type": "code",
   "execution_count": 1,
   "id": "initial_id",
   "metadata": {
    "collapsed": true,
    "ExecuteTime": {
     "end_time": "2023-12-21T17:26:45.548443600Z",
     "start_time": "2023-12-21T17:26:20.465934800Z"
    }
   },
   "outputs": [],
   "source": [
    "import yfinance as yf\n",
    "from proxy import enable\n",
    "from lorentzian import lorentzian_distance, lorentzian_k_nearest_neighbor, Diction, KNode\n",
    "from features import n_rsi, n_adx, n_cci, n_wt\n",
    "enable()"
   ]
  },
  {
   "cell_type": "code",
   "execution_count": 2,
   "outputs": [],
   "source": [
    "apple = yf.Ticker(\"AAPL\")"
   ],
   "metadata": {
    "collapsed": false,
    "ExecuteTime": {
     "end_time": "2023-12-21T17:27:20.224426200Z",
     "start_time": "2023-12-21T17:27:20.217857200Z"
    }
   },
   "id": "d00e8807b51d0cd4"
  },
  {
   "cell_type": "code",
   "execution_count": 4,
   "outputs": [],
   "source": [
    "his = apple.history(period=\"max\",interval=\"1d\")"
   ],
   "metadata": {
    "collapsed": false,
    "ExecuteTime": {
     "end_time": "2023-12-21T18:44:14.869777600Z",
     "start_time": "2023-12-21T18:44:12.708255600Z"
    }
   },
   "id": "ba7f07499483f4a"
  },
  {
   "cell_type": "code",
   "execution_count": null,
   "outputs": [],
   "source": [],
   "metadata": {
    "collapsed": false
   },
   "id": "a4fbd73a38706fb2"
  }
 ],
 "metadata": {
  "kernelspec": {
   "display_name": "Python 3",
   "language": "python",
   "name": "python3"
  },
  "language_info": {
   "codemirror_mode": {
    "name": "ipython",
    "version": 2
   },
   "file_extension": ".py",
   "mimetype": "text/x-python",
   "name": "python",
   "nbconvert_exporter": "python",
   "pygments_lexer": "ipython2",
   "version": "2.7.6"
  }
 },
 "nbformat": 4,
 "nbformat_minor": 5
}
