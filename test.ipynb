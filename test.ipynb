{
 "cells": [
  {
   "cell_type": "code",
   "execution_count": 1,
   "id": "initial_id",
   "metadata": {
    "collapsed": true,
    "ExecuteTime": {
     "end_time": "2023-12-21T19:17:29.019518400Z",
     "start_time": "2023-12-21T19:17:28.223242100Z"
    }
   },
   "outputs": [],
   "source": [
    "import yfinance as yf\n",
    "from proxy import enable\n",
    "from lorentzian import lorentzian_distance, lorentzian_k_nearest_neighbor, Diction, KNode\n",
    "from features import n_rsi, n_adx, n_cci, n_wt, HLC3\n",
    "enable()"
   ]
  },
  {
   "cell_type": "code",
   "execution_count": 2,
   "outputs": [],
   "source": [
    "apple = yf.Ticker(\"AAPL\")"
   ],
   "metadata": {
    "collapsed": false,
    "ExecuteTime": {
     "end_time": "2023-12-21T19:17:31.196210900Z",
     "start_time": "2023-12-21T19:17:31.188742100Z"
    }
   },
   "id": "d00e8807b51d0cd4"
  },
  {
   "cell_type": "code",
   "execution_count": 3,
   "outputs": [],
   "source": [
    "his = apple.history(period=\"max\",interval=\"1d\")"
   ],
   "metadata": {
    "collapsed": false,
    "ExecuteTime": {
     "end_time": "2023-12-21T19:17:35.170996400Z",
     "start_time": "2023-12-21T19:17:31.768036800Z"
    }
   },
   "id": "ba7f07499483f4a"
  },
  {
   "cell_type": "code",
   "execution_count": 4,
   "outputs": [
    {
     "name": "stdout",
     "output_type": "stream",
     "text": [
      "0\n"
     ]
    }
   ],
   "source": [
    "res = n_wt(his['High'],his['Low'],his['Close'],14,2)"
   ],
   "metadata": {
    "collapsed": false,
    "ExecuteTime": {
     "end_time": "2023-12-21T19:17:36.966591900Z",
     "start_time": "2023-12-21T19:17:36.957573200Z"
    }
   },
   "id": "a4fbd73a38706fb2"
  },
  {
   "cell_type": "code",
   "execution_count": 5,
   "outputs": [
    {
     "data": {
      "text/plain": "10847"
     },
     "execution_count": 5,
     "metadata": {},
     "output_type": "execute_result"
    }
   ],
   "source": [
    "len(res)"
   ],
   "metadata": {
    "collapsed": false,
    "ExecuteTime": {
     "end_time": "2023-12-21T19:17:42.084094400Z",
     "start_time": "2023-12-21T19:17:42.069915800Z"
    }
   },
   "id": "8f0b80170058949d"
  },
  {
   "cell_type": "code",
   "execution_count": 6,
   "outputs": [
    {
     "data": {
      "text/plain": "0"
     },
     "execution_count": 6,
     "metadata": {},
     "output_type": "execute_result"
    }
   ],
   "source": [
    "len(his) - len(res)"
   ],
   "metadata": {
    "collapsed": false,
    "ExecuteTime": {
     "end_time": "2023-12-21T19:17:42.435381500Z",
     "start_time": "2023-12-21T19:17:42.425227300Z"
    }
   },
   "id": "a2c1d04dfdf1ff44"
  },
  {
   "cell_type": "code",
   "execution_count": 7,
   "outputs": [
    {
     "data": {
      "text/plain": "Date\n1980-12-12 00:00:00-05:00         NaN\n1980-12-15 00:00:00-05:00         NaN\n1980-12-16 00:00:00-05:00         NaN\n1980-12-17 00:00:00-05:00         NaN\n1980-12-18 00:00:00-05:00         NaN\n                               ...   \n2023-12-14 00:00:00-05:00   -1.787983\n2023-12-15 00:00:00-05:00   -0.901858\n2023-12-18 00:00:00-05:00    1.021446\n2023-12-19 00:00:00-05:00    1.751156\n2023-12-20 00:00:00-05:00    0.823161\nName: sma_2, Length: 10847, dtype: float64"
     },
     "execution_count": 7,
     "metadata": {},
     "output_type": "execute_result"
    }
   ],
   "source": [
    "res"
   ],
   "metadata": {
    "collapsed": false,
    "ExecuteTime": {
     "end_time": "2023-12-21T19:17:43.231323400Z",
     "start_time": "2023-12-21T19:17:43.222925200Z"
    }
   },
   "id": "9b224540d2346bee"
  },
  {
   "cell_type": "code",
   "execution_count": null,
   "outputs": [],
   "source": [],
   "metadata": {
    "collapsed": false
   },
   "id": "15ad9a8412d54f1d"
  }
 ],
 "metadata": {
  "kernelspec": {
   "display_name": "Python 3",
   "language": "python",
   "name": "python3"
  },
  "language_info": {
   "codemirror_mode": {
    "name": "ipython",
    "version": 2
   },
   "file_extension": ".py",
   "mimetype": "text/x-python",
   "name": "python",
   "nbconvert_exporter": "python",
   "pygments_lexer": "ipython2",
   "version": "2.7.6"
  }
 },
 "nbformat": 4,
 "nbformat_minor": 5
}
